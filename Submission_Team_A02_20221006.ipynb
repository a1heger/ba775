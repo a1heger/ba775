{
 "cells": [
  {
   "cell_type": "markdown",
   "id": "88ebda75-5d8b-4b75-9e42-250cf586e939",
   "metadata": {
    "tags": []
   },
   "source": [
    "# Market Entry Analysis for Hawkeye Liquor Distributors\n",
    "\n",
    "#### Objective:\n",
    "Our goal with this dataset is to perform a multi-level market analysis for Hawkeye Liquor Distributors (fictional) using SQL, with a focus on facilitating the following business decisions:\n",
    "\n",
    "1. __Location within Iowa__ - We will analyze which regions of Iowa have the highest/lowest sales, and make a recommendation on which areas would have the highest demand.\n",
    "\n",
    "2. __Type of Liquor__ - Based on the regional sales of different types of liquor, we will make an overall recommendation on the style(s) of liquor Hawkeye should distribute to the State of Iowa.\n",
    "\n",
    "3. __Pricing__ - For our recommended style(s) of liquor, we will advise Hawkeye on a fair price for distribution to the State of Iowa.\n",
    "\n",
    "4. __Distribution Channel Mix__ - Finally, we will determine which type of store (grocery, wholesale, convenience, etc.) will yield the highest sales for Hawkeye's liquor products.\n",
    "\n",
    "#### Data Brief: \n",
    "This dataset contains every wholesale purchase of liquor in the State of Iowa by retailers for sale to individuals since January 1, 2012. The State of Iowa controls the wholesale distribution of liquor intended for retail sale (off-premises consumption), which means this dataset offers a complete view of retail liquor consumption in the entire state. The dataset contains every wholesale order of liquor by all grocery stores, liquor stores, convenience stores, etc., with details about the store and location, the exact liquor brand and size, and the number of bottles ordered.\n",
    "\n",
    "The original dataset comprises 24,229,431 records (null and non-null) and occupies 6.4 GB of storage as of October 3, 2022.\n",
    "\n",
    "In order to stop the ingest of new data into the table for our analysis, we froze the raw dataset in a table called `ba775-a02-fall22.main.sales` in our BigQuery project on October 3, 2022.  Our analysis is based on this extract of the original dataset cited above.\n",
    "\n",
    "#### Data sourced from Iowa Department of Commerce via Google BigQuery.  See __[here](https://data.iowa.gov/Sales-Distribution/Iowa-Liquor-Sales/m3tr-qhgy/data)__.\n",
    "\n",
    "<hr />\n",
    "\n",
    "## Table of Contents\n",
    "\n",
    "#### I. Data Exploration\n",
    "\n",
    "#### II. Data Cleaning\n",
    "\n",
    "#### III. Data Scoping\n",
    "\n",
    "#### IV. Conclusions\n",
    "\n",
    "#### V. References\n",
    "\n",
    "<hr />\n",
    "\n",
    "## I. Data Exploration\n",
    "\n",
    "#### Findings related to Decision 1, Location within Iowa:\n",
    "\n",
    "__Q__: How is location represented in the data schema?\n",
    "\n",
    "__A__: The original dataset includes location information in the `address`, `city`, `zip_code`, `store_location`, and `county` fields, which are all stored as STRING.  For the purposes of our analysis we will use the information from `county`.\n",
    "\n",
    "__Q__: How many counties have liquor distributed from the original dataset?\n",
    "\n",
    "__A__: 104 counties"
   ]
  },
  {
   "cell_type": "code",
   "execution_count": null,
   "id": "2b74a084-c600-4508-9d44-98b6476b580e",
   "metadata": {},
   "outputs": [],
   "source": [
    "# %%bigquery\n",
    "# SELECT \n",
    "#   COUNT(DISTINCT LOWER(county)) AS counties\n",
    "# FROM `ba775-a02-fall22.main.sales`"
   ]
  },
  {
   "cell_type": "markdown",
   "id": "659ac21e-4419-4817-ae24-ecb52d17c15f",
   "metadata": {},
   "source": [
    "__Q__: Which of those counties had the highest number of liquor sales?\n",
    "\n",
    "__A__: Polk County"
   ]
  },
  {
   "cell_type": "code",
   "execution_count": null,
   "id": "0d498702-8bec-4df7-a8d2-f7d5b59bca01",
   "metadata": {},
   "outputs": [],
   "source": [
    "# %%bigquery\n",
    "# SELECT \n",
    "#     county, \n",
    "#     COUNT(invoice_and_item_number) AS value_occurrences\n",
    "# FROM `ba775-a02-fall22.main.sales`\n",
    "# GROUP BY county\n",
    "# ORDER BY value_occurrences DESC\n",
    "# LIMIT 1;"
   ]
  },
  {
   "cell_type": "markdown",
   "id": "ff749dd2-b517-4e2f-a2f5-036c067e6155",
   "metadata": {},
   "source": [
    "#### Findings related to Decision 2, Type of Liquor:\n",
    "\n",
    "__Q__: How is type of liquor represented in the data schema?\n",
    "\n",
    "__A__: Type of liquor information is stored in the `category` and `category_name` fields, which are stored as STRING.  We will use `category_name` for our analysis (see Data Cleaning for details).\n",
    "\n",
    "__Q__: How many types of liquor were sold in the original dataset?\n",
    "\n",
    "__A__: 112, excluding 1 NULL `category_name`"
   ]
  },
  {
   "cell_type": "code",
   "execution_count": null,
   "id": "293cce59-0715-45dc-90a1-9e506602dc04",
   "metadata": {
    "tags": []
   },
   "outputs": [],
   "source": [
    "# %%bigquery\n",
    "# SELECT \n",
    "#   DISTINCT LOWER(category_name) AS lower_name,\n",
    "# FROM `ba775-a02-fall22.main.sales`\n",
    "# GROUP BY lower_name;"
   ]
  },
  {
   "cell_type": "markdown",
   "id": "7241078a-975c-4f16-be94-d12d6ffd6943",
   "metadata": {},
   "source": [
    "__Q__: Which type of liquor sold the most in the original dataset?\n",
    "\n",
    "__A__: Canadian Whiskies"
   ]
  },
  {
   "cell_type": "code",
   "execution_count": null,
   "id": "47b86c25-3b90-4719-98d8-e1796b85c83d",
   "metadata": {
    "tags": []
   },
   "outputs": [],
   "source": [
    "# %%bigquery\n",
    "# SELECT \n",
    "#   LOWER(category_name) AS lower_name,\n",
    "#   COUNT(invoice_and_item_number) AS value_occurrences\n",
    "# FROM `ba775-a02-fall22.main.sales`\n",
    "# GROUP BY lower_name\n",
    "# ORDER BY value_occurrences DESC\n",
    "# LIMIT 1;"
   ]
  },
  {
   "cell_type": "markdown",
   "id": "0f28d460-6c1c-4db5-8849-f7e17852fd73",
   "metadata": {},
   "source": [
    "#### Findings related to Decision , Pricing:\n",
    "\n",
    "__Q__: How is pricing information represented in the dataset?\n",
    "\n",
    "__A__: The target field for our analysis is `state_bottle_cost` (FLOAT) since this price is what the Iowa Alcoholic Beverages Commission pays per bottle.  The `state_bottle_retail` (FLOAT) field contains the price each authorized vendor paid to the state for each bottle."
   ]
  },
  {
   "cell_type": "markdown",
   "id": "4d58bc49-8e4a-476f-a766-f3dac55c5928",
   "metadata": {},
   "source": [
    "#### Findings related to Decision 5, Distribution Channel Mix:\n",
    "\n",
    "__Q__: How is store information represented in the dataset?\n",
    "\n",
    "__A__: Stores are identified by `store_name` and `store_number` fields as STRING in the original dataset.  In order to glean information regarding distribution channel mix, we will need to further categorize stores by their types (see Section II)."
   ]
  },
  {
   "cell_type": "markdown",
   "id": "69a85df6-15d5-4228-804e-04617f6b425b",
   "metadata": {
    "tags": []
   },
   "source": [
    "<hr />\n",
    "\n",
    "## II. Data Cleaning\n",
    "\n",
    "#### Data problems related to Decision 1, Location within Iowa:\n",
    "\n",
    "__Q__: Is there missing information for location?  How will you address it?\n",
    "\n",
    "__A__: No records are missing `county` information, therefore we will scope our analysis around information at the county-level.\n",
    "\n",
    "__Q__: Were there other formatting or missing data issues?  What was their impact?\n",
    "\n",
    "__A1__: Some `zip_code` records were stored as FLOAT causing multiple DISTINCT records for the same store.  Our overall analysis is not impacted by this error though, considering we are focused on county-level sales.\n",
    "\n",
    "__A2__: Many counties had a mix of uppercase and lowercase naming conventions within their occurences in the data. We performed the conversion of all county name to their capitalized versions to overcome this issue."
   ]
  },
  {
   "cell_type": "code",
   "execution_count": null,
   "id": "ebcfaab2-eb65-4ebb-a6d6-c98e68ac3c73",
   "metadata": {},
   "outputs": [],
   "source": [
    "# %%bigquery\n",
    "# UPDATE `ba775-a02-fall22.main.sales`\n",
    "# SET county = UPPER(county)\n",
    "# WHERE county != UPPER(county);"
   ]
  },
  {
   "cell_type": "markdown",
   "id": "acdcdd6a-8819-4d98-b7ba-d8c91b643510",
   "metadata": {},
   "source": [
    "#### Data problems related to Decision 2, Type of Liquor:\n",
    "\n",
    "__Q__: Is there missing information for type of liquor?  How will you address it?\n",
    "\n",
    "__A__: 24,644 records for `category_name` are NULL.  However, considering this is 0.1% of the dataset, we will exclude these null records in our `main` table."
   ]
  },
  {
   "cell_type": "code",
   "execution_count": null,
   "id": "4e299fe7-1037-471f-ba92-39a275434950",
   "metadata": {},
   "outputs": [],
   "source": [
    "# %%bigquery\n",
    "# SELECT COUNT(*) \n",
    "# FROM `ba775-a02-fall22.main.sales`\n",
    "# WHERE category_name IS NULL;"
   ]
  },
  {
   "cell_type": "markdown",
   "id": "0501929f-0a32-475e-b47b-b8a1636aac0f",
   "metadata": {},
   "source": [
    "__Q__: Were there other formatting or missing data issues?  What was their impact?\n",
    "\n",
    "__A1__: Performing COUNT DISTINCT of `category` shows 167 different categories of liquor due to 111 category numbers ending in \".0\" as if a previous schema for the dataset stored this field as FLOAT.  This informed our decision to used `category_name` as the primary field for determining type of liquor.  "
   ]
  },
  {
   "cell_type": "code",
   "execution_count": null,
   "id": "fd4fffb1-351d-42b0-9125-4a1fe32ca998",
   "metadata": {},
   "outputs": [],
   "source": [
    "# %%bigquery\n",
    "# SELECT \n",
    "#   COUNT(DISTINCT category)\n",
    "# FROM ba775-a02-fall22.main.sales\n",
    "# WHERE category LIKE \"%.0\";"
   ]
  },
  {
   "cell_type": "markdown",
   "id": "6d0799ed-208f-46fc-817f-018415ba824e",
   "metadata": {},
   "source": [
    "__A2__: Additionally, there are duplicate `category_name` values due to capitalized versions of values, which we fix using the below query "
   ]
  },
  {
   "cell_type": "code",
   "execution_count": null,
   "id": "55f075da-c588-4ccc-af6e-5233e2b60b9d",
   "metadata": {},
   "outputs": [],
   "source": [
    "# %%bigquery\n",
    "# UPDATE `ba775-a02-fall22.main.sales`\n",
    "# SET category_name = UPPER(category_name)\n",
    "# WHERE category_name != UPPER(category_name)"
   ]
  },
  {
   "cell_type": "markdown",
   "id": "20dd1426-0878-442f-b3a0-a95bcedea1fd",
   "metadata": {},
   "source": [
    "#### Data problems related to Decision 3, Pricing:\n",
    "\n",
    "There are no significant data problems impacting our analysis related to pricing.\n",
    "\n",
    "#### Data problems related to Decision 4, Distribution Channel Mix:\n",
    "\n",
    "__Q__: Is there missing information on stores?  How will you address it?\n",
    "\n",
    "__A__: No information is missing from `store_name`, however no clear categorization of stores exists in the original dataset."
   ]
  },
  {
   "cell_type": "markdown",
   "id": "0d17f7a7-db15-415c-94ce-3df3be38e92e",
   "metadata": {},
   "source": [
    "<hr />\n",
    "\n",
    "## III. Data Scoping\n",
    "\n",
    "### Generate Revenue column\n",
    "\n",
    "By multiplying columns `pack` and `state_bottle_cost` we can calculate revenue for each sale of liquor.  This key discovery from our data exploration provides us a fundamental business metric by which we can recommend the highest revenue decisions for Hawkeye Liquor Distributors (__see Query after next question__)."
   ]
  },
  {
   "cell_type": "markdown",
   "id": "a874c655-e066-4a4b-91b8-0901ff240353",
   "metadata": {
    "tags": []
   },
   "source": [
    "### How did you narrow down the data set for the purpose of your analysis?\n",
    "\n",
    "We further dropped the following columns based on relevancy to the questions that we are trying to answer:\n",
    "\n",
    "`invoice_and_item_number` - this unique identifier for all sales of liquor was duplicative given the other unique information about each record\n",
    "    \n",
    "`store_number` - duplicative and less informative than `store_name`\n",
    "\n",
    "`item_number` - duplicative and less informative than `item_description`\n",
    "\n",
    "`address`, `city`, `county_number` - too granular for the purpose of our analysis\n",
    "\n",
    "`category` - duplicative with `category_name` and contains errors\n",
    "\n",
    "`vendor_number` - duplicative with `vendor_name`\n",
    "\n",
    "`sale_dollars` - refers to the sale of liquor from the store to an individual which is outside our scope\n",
    "\n",
    "`volume_sold_liters`, `volume_sold_gallons` - easily calculated with `bottle_volume_ml` and other numeric data"
   ]
  },
  {
   "cell_type": "code",
   "execution_count": null,
   "id": "81dd3671-948c-49f3-bf04-6bbfde9851a2",
   "metadata": {
    "tags": []
   },
   "outputs": [],
   "source": [
    "# %%bigquery\n",
    "# CREATE OR REPLACE TABLE ba775-a02-fall22.main.sales_columns_dropped\n",
    "# AS\n",
    "#     (SELECT * EXCEPT\n",
    "#         (invoice_and_item_number, \n",
    "#          store_number, \n",
    "#          item_number, \n",
    "#          address,\n",
    "#          city,\n",
    "#          county_number, \n",
    "#          category,\n",
    "#          vendor_number, \n",
    "#          sale_dollars,\n",
    "#          volume_sold_liters, \n",
    "#          volume_sold_gallons),\n",
    "#     (pack * state_bottle_cost) AS revenue\n",
    "# FROM `ba775-a02-fall22.main.sales` "
   ]
  },
  {
   "cell_type": "markdown",
   "id": "5d4b79a8-4d6c-45df-a9ae-493419ec1139",
   "metadata": {
    "tags": []
   },
   "source": [
    "### Creating Bucketing for Prices\n",
    "\n",
    "We create a new table `price_buckets` which marks the `state_bottle_cost` according to 8 different price buckets in multiples of $5. This is done to facilitate providing a focused pricing recommendation for Hawkeye"
   ]
  },
  {
   "cell_type": "code",
   "execution_count": null,
   "id": "bcfa405e-e1e5-4181-a493-49e6640a087e",
   "metadata": {},
   "outputs": [],
   "source": [
    "# %%bigquery\n",
    "# CREATE TABLE ba775-a02-fall22.main.price_buckets AS\n",
    "# SELECT\n",
    "# DISTINCT state_bottle_cost,\n",
    "# CASE\n",
    "#     WHEN state_bottle_cost > 75 THEN '75+'\n",
    "#     WHEN state_bottle_cost BETWEEN 50 AND 75 THEN '50-75'\n",
    "#     WHEN state_bottle_cost BETWEEN 25 AND 50 THEN '25-50'\n",
    "#     WHEN state_bottle_cost BETWEEN 20 AND 25 THEN '20-25'\n",
    "#     WHEN state_bottle_cost BETWEEN 15 AND 20 THEN '15-20'\n",
    "#     WHEN state_bottle_cost BETWEEN 10 AND 15 THEN '10-15'\n",
    "#     WHEN state_bottle_cost BETWEEN 5 AND 10 THEN '5-10'\n",
    "#     WHEN state_bottle_cost BETWEEN 0 AND 5 THEN '0-5'\n",
    "# END AS price_bucket\n",
    "# FROM `ba775-a02-fall22.main.sales_columns_dropped`"
   ]
  },
  {
   "cell_type": "markdown",
   "id": "ef021b19-12b7-4225-a2d6-24e9081924cb",
   "metadata": {
    "tags": []
   },
   "source": [
    "### Creating Mapping for Distribution Channels\n",
    "\n",
    "Within the Sales data, no clear categorization of stores exists in the original dataset, so we manually assigned `store_category` to all 2,424 stores in a new table called `store_to_channel_mapping` which we will JOIN later with our `sales` table.  The categories include: 'Convenience', 'Grocery', 'Hospitality', 'Liquor', and 'Wholesale'.  This categorization will inform our recommendation to Hawkeye Liquor Distributors on how to balance its approach to selling in a variety of store channels."
   ]
  },
  {
   "cell_type": "code",
   "execution_count": null,
   "id": "d1e8d6f4-a6db-4467-813c-1800c1efa0b4",
   "metadata": {},
   "outputs": [],
   "source": [
    "# %%bigquery\n",
    "# SELECT *\n",
    "# FROM `ba775-a02-fall22.main.store_to_channel_mapping`\n",
    "# LIMIT 100;"
   ]
  },
  {
   "cell_type": "markdown",
   "id": "ea604e77-5dea-4fa9-8dca-cb2d7c0fca6d",
   "metadata": {},
   "source": [
    "<hr />\n",
    "\n",
    "## IV. Conclusions\n",
    "\n",
    "### Location within Iowa\n",
    "\n",
    "We saw earlier that Polk County has the highest number of liquor sales in Iowa. Upon analysing the highest revenue counties, we still see __Polk__ as the leader in sales with over __$467 Million__ in revenue. Therefore, we recommend Hawkeye Liquor Distributors to pursue their operations within Polk County.\n",
    "\n",
    "<img src=\"https://i.ibb.co/hM8dVwg/Screenshot-2022-10-06-at-1-09-16-AM.jpg\" width= 350 alt=\"Alt text that describes the graphic\" title=\"Title text\" />\n"
   ]
  },
  {
   "cell_type": "code",
   "execution_count": null,
   "id": "a553c747-288c-44c1-947a-54c73dcf662e",
   "metadata": {},
   "outputs": [],
   "source": [
    "# %%bigquery\n",
    "# SELECT \n",
    "#     UPPER(county), \n",
    "#     SUM(revenue) AS revenue\n",
    "# FROM `ba775-a02-fall22.main.sales_columns_dropped`\n",
    "# GROUP BY UPPER(county)\n",
    "# ORDER BY revenue DESC\n",
    "# LIMIT 10;"
   ]
  },
  {
   "cell_type": "markdown",
   "id": "c6b06fc6-eadd-4f78-b4c7-12312f2bf350",
   "metadata": {
    "tags": []
   },
   "source": [
    "### Type of Liquor\n",
    "\n",
    "__Canadian Whiskies__ have the highest sales in Polk County with __$38 Million__ total sales.  Therefore, Hawkeye Liquours should produce Canadian Whiskies if it seeks to target the highest demand liquor product in the Polk County, Iowa market.\n",
    "\n",
    "<img src=\"https://i.ibb.co/WyphWWh/Screenshot-2022-10-06-at-1-06-36-AM.jpg\" width= 350 alt=\"Alt text that describes the graphic\" title=\"Title text\" />"
   ]
  },
  {
   "cell_type": "code",
   "execution_count": null,
   "id": "519b8664-36a2-4319-9c0a-ad180f2c9951",
   "metadata": {},
   "outputs": [],
   "source": [
    "# %%bigquery\n",
    "# SELECT \n",
    "#     category_name,\n",
    "#     SUM(revenue) AS revenue\n",
    "# FROM\n",
    "#     `ba775-a02-fall22.main.sales`\n",
    "# WHERE \n",
    "#     UPPER(county) = 'POLK'\n",
    "# GROUP BY category_name\n",
    "# ORDER BY revenue DESC;"
   ]
  },
  {
   "cell_type": "markdown",
   "id": "9ee90999-696c-483b-bfe0-9166663b49a9",
   "metadata": {
    "tags": []
   },
   "source": [
    "### Pricing\n",
    "\n",
    "Joining the `sales` and `price_bucket` tables and grouping by the price buckets, we find the total revenue in each price bucket. For the Polk county and Canadian Whiskies category, We observe that the most revenue generating price range is the following:\n",
    "\n",
    "##### \\$5-10\n",
    "\n",
    "Hence Hawkeye Liquours should price their Canadian Whiskies in the above range to generate maximum revenue.\n",
    "\n",
    "<img src=\"https://i.ibb.co/kK3nsgK/Screenshot-2022-10-06-at-1-22-14-AM.jpg\" width= 350 alt=\"Alt text that describes the graphic\" title=\"Title text\" />"
   ]
  },
  {
   "cell_type": "code",
   "execution_count": null,
   "id": "9767884c-533b-43ec-b9fc-3ee9b2268a18",
   "metadata": {
    "tags": []
   },
   "outputs": [],
   "source": [
    "# %%bigquery\n",
    "# SELECT\n",
    "#    price_bucket, SUM(revenue) AS revenue\n",
    "# FROM\n",
    "#    (\n",
    "#    SELECT *\n",
    "#    FROM `ba775-a02-fall22.main.sales_columns_dropped`\n",
    "#    WHERE UPPER(county) = 'POLK' AND category_name = 'CANADIAN WHISKIES'\n",
    "#    )\n",
    "# LEFT JOIN  \n",
    "#    ba775-a02-fall22.main.price_buckets\n",
    "# USING(state_bottle_cost)\n",
    "# GROUP BY\n",
    "#    price_bucket\n",
    "# ORDER BY\n",
    "#    revenue DESC;"
   ]
  },
  {
   "cell_type": "markdown",
   "id": "db42e0a6-1ef1-4b91-bbde-2a7e578601d9",
   "metadata": {
    "tags": []
   },
   "source": [
    "### Distribution Channel\n",
    "\n",
    "Joining the `sales`, `price_bucket` and `store_to_channel_mapping` tables and grouping by `store_category`, we find the total revenue in each distribution channel. For the Polk county and Canadian Whiskies category within the $5-10 price range, we observe that the most revenue generating distribution channels were the following:\n",
    "\n",
    "##### Convenience\n",
    "##### Grocery\n",
    "##### Liquor\n",
    "\n",
    "The above comprise of __95.5%__ of the total revenue from Canadian Whiskies sales (priced between $5-10) in Polk County, and therefore should be the 3 distribution channels on which Hawkeye should focus.\n",
    "\n",
    "<img src=\"https://i.ibb.co/v1WNQBy/Screenshot-2022-10-06-at-1-26-23-AM.jpg\" width= 350 alt=\"Alt text that describes the graphic\" title=\"Title text\" />"
   ]
  },
  {
   "cell_type": "code",
   "execution_count": null,
   "id": "4526096e-fb01-4eaf-92c4-992efaeb596b",
   "metadata": {},
   "outputs": [],
   "source": [
    "# %%bigquery\n",
    "# SELECT \n",
    "#     store_category, SUM(revenue) revenue\n",
    "# FROM\n",
    "#     (SELECT *\n",
    "#     FROM ba775-a02-fall22.main.sales_columns_dropped\n",
    "#     LEFT JOIN  \n",
    "#     ba775-a02-fall22.main.price_buckets\n",
    "#     USING(state_bottle_cost))\n",
    "# INNER JOIN\n",
    "#     ba775-a02-fall22.main.store_to_channel_mapping\n",
    "# USING(store_name)\n",
    "# WHERE\n",
    "#     category_name = 'CANADIAN WHISKIES'\n",
    "#     AND UPPER(county) = 'POLK'\n",
    "#     AND price_bucket = '5-10'\n",
    "# GROUP BY\n",
    "#     store_category\n",
    "# ORDER BY\n",
    "#     revenue DESC"
   ]
  },
  {
   "cell_type": "markdown",
   "id": "82a7cca5-53ca-4b5a-8628-f1ae1af124e3",
   "metadata": {},
   "source": [
    "<hr />\n",
    "\n",
    "## V. References\n",
    "\n",
    "Iowa Department of Commerce. (2022). Iowa Liquor Sales. *Iowa Data*. https://data.iowa.gov/Sales-Distribution/Iowa-Liquor-Sales/m3tr-qhgy/data"
   ]
  }
 ],
 "metadata": {
  "environment": {
   "kernel": "python3",
   "name": "common-cpu.m96",
   "type": "gcloud",
   "uri": "gcr.io/deeplearning-platform-release/base-cpu:m96"
  },
  "kernelspec": {
   "display_name": "Python 3",
   "language": "python",
   "name": "python3"
  },
  "language_info": {
   "codemirror_mode": {
    "name": "ipython",
    "version": 3
   },
   "file_extension": ".py",
   "mimetype": "text/x-python",
   "name": "python",
   "nbconvert_exporter": "python",
   "pygments_lexer": "ipython3",
   "version": "3.7.12"
  }
 },
 "nbformat": 4,
 "nbformat_minor": 5
}
